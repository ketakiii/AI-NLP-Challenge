{
  "cells": [
    {
      "cell_type": "markdown",
      "source": [
        "Reference link: https://keras.io/examples/nlp/lstm_seq2seq/"
      ],
      "metadata": {
        "id": "ZH48UMOYTmBV"
      }
    },
    {
      "cell_type": "markdown",
      "source": [
        "Character level recurrent sequence to sequence model: Encoder Decoder Architecture\n",
        "\n",
        "**Summary of the algorithm**\n",
        "\n",
        "- We start with input sequences from a domain and corresponding target sequences from another domain.\n",
        "- An encoder LSTM turns input sequences to 2 state vectors\n",
        "    (we keep the last LSTM state and discard the outputs).\n",
        "- A decoder LSTM is trained to turn the target sequences into\n",
        "    the same sequence but offset by one timestep in the future,\n",
        "    a training process called \"teacher forcing\" in this context.\n",
        "    It uses as initial state the state vectors from the encoder.\n",
        "    Effectively, the decoder learns to generate `targets[t+1...]`\n",
        "    given `targets[...t]`, conditioned on the input sequence.\n",
        "- In inference mode, when we want to decode unknown input sequences, we:\n",
        "    - Encode the input sequence into state vectors\n",
        "    - Start with a target sequence of size 1\n",
        "        (just the start-of-sequence character)\n",
        "    - Feed the state vectors and 1-char target sequence\n",
        "        to the decoder to produce predictions for the next character\n",
        "    - Sample the next character using these predictions\n",
        "        (we simply use argmax).\n",
        "    - Append the sampled character to the target sequence\n",
        "    - Repeat until we generate the end-of-sequence character or we\n",
        "        hit the character limit."
      ],
      "metadata": {
        "id": "YFQs_mAfTCw2"
      }
    },
    {
      "cell_type": "markdown",
      "source": [
        "**Tweaks done in the code from our side:**\n",
        "\n",
        "1. The input format example given in our example (reference link) was quite different from the one that our polynomial data provides. Tweaking the input type in a way that the model can process is one of the major changes done to the code. \n",
        "\n",
        "2. Previously I also tried fitting an simple LSTM Seq to Seq model which gave us an encoding issue and an accuracy of around 40%. This issue was fixed in our current model where the encoding is done on a character level which gives us the desirable output. \n",
        "\n",
        "3. The given load file method in main was not working and hence I have switched to loading data in a different way from the URL. "
      ],
      "metadata": {
        "id": "NKSYQ78oTu9Q"
      }
    },
    {
      "cell_type": "markdown",
      "metadata": {
        "id": "_WKUMbn7HTQn"
      },
      "source": [
        "## Importing libraries\n"
      ]
    },
    {
      "cell_type": "code",
      "execution_count": 6,
      "metadata": {
        "id": "CYGZorgCHTQo"
      },
      "outputs": [],
      "source": [
        "import numpy as np\n",
        "import tensorflow as tf\n",
        "from tensorflow import keras\n"
      ]
    },
    {
      "cell_type": "markdown",
      "metadata": {
        "id": "OEEtGmsuHTQs"
      },
      "source": [
        "## Configuration\n"
      ]
    },
    {
      "cell_type": "code",
      "execution_count": 5,
      "metadata": {
        "id": "W4W2WsDKHTQt"
      },
      "outputs": [],
      "source": [
        "batch_size = 64  # Batch size for training.\n",
        "epochs = 100  # Number of epochs to train for.\n",
        "latent_dim = 256  # Latent dimensionality of the encoding space.\n",
        "num_samples = 700_000  # Number of samples to train on.\n"
      ]
    },
    {
      "cell_type": "code",
      "source": [
        "import sys\n",
        "import numpy as np\n",
        "import urllib.request\n",
        "from typing import Tuple\n",
        "\n",
        "MAX_SEQUENCE_LENGTH = 29\n",
        "TRAIN_URL = \"https://scale-static-assets.s3-us-west-2.amazonaws.com/ml-interview/expand/train.txt\"\n",
        "\n",
        "def load_file(file_path: str) -> Tuple[Tuple[str], Tuple[str]]:\n",
        "    \"\"\" A helper functions that loads the file into a tuple of strings\n",
        "\n",
        "    :param file_path: path to the data file\n",
        "    :return factors: (LHS) inputs to the model\n",
        "            expansions: (RHS) group truth\n",
        "    \"\"\"\n",
        "    with urllib.request.urlopen(file_path) as url:\n",
        "        data = url.readlines()\n",
        "        factors, expansions = zip(*[line.decode('utf8').strip().split(\"=\") for line in data])\n",
        "        return factors, expansions"
      ],
      "metadata": {
        "id": "lcj7t1AiIX75"
      },
      "execution_count": 1,
      "outputs": []
    },
    {
      "cell_type": "code",
      "source": [
        "factors, expansions = load_file(TRAIN_URL)"
      ],
      "metadata": {
        "id": "cWMVT7rFIex-"
      },
      "execution_count": 2,
      "outputs": []
    },
    {
      "cell_type": "code",
      "source": [
        "text_pairs = []\n",
        "for i in range(len(factors)):\n",
        "    fct = factors[i]\n",
        "    exp = expansions[i]\n",
        "    text_pairs.append((fct,exp))"
      ],
      "metadata": {
        "id": "GotvTuH3Ionj"
      },
      "execution_count": 3,
      "outputs": []
    },
    {
      "cell_type": "markdown",
      "metadata": {
        "id": "ONsFtY10HTQu"
      },
      "source": [
        "## Prepare the data\n"
      ]
    },
    {
      "cell_type": "code",
      "execution_count": 7,
      "metadata": {
        "id": "sTt6275CHTQv",
        "colab": {
          "base_uri": "https://localhost:8080/"
        },
        "outputId": "4107c19c-a3d9-45ab-e227-b6c0fa0d2e66"
      },
      "outputs": [
        {
          "output_type": "stream",
          "name": "stdout",
          "text": [
            "Number of samples: 700000\n",
            "Number of unique input tokens: 29\n",
            "Number of unique output tokens: 31\n",
            "Max sequence length for inputs: 30\n",
            "Max sequence length for outputs: 31\n"
          ]
        }
      ],
      "source": [
        "# Vectorize the data.\n",
        "input_texts = []\n",
        "target_texts = []\n",
        "input_characters = set()\n",
        "target_characters = set()\n",
        "\n",
        "for line in text_pairs[: min(num_samples, len(text_pairs) - 1)]:\n",
        "    input_text, target_text = line\n",
        "    # We use \"tab\" as the \"start sequence\" character\n",
        "    # for the targets, and \"\\n\" as \"end sequence\" character.\n",
        "    target_text = \"\\t\" + target_text + \"\\n\" + \" \"\n",
        "    input_text = input_text + \" \"\n",
        "    input_texts.append(input_text)\n",
        "    target_texts.append(target_text)\n",
        "    for char in input_text:\n",
        "        if char not in input_characters:\n",
        "            input_characters.add(char)\n",
        "    for char in target_text:\n",
        "        if char not in target_characters:\n",
        "            target_characters.add(char)\n",
        "\n",
        "input_characters = sorted(list(input_characters))\n",
        "target_characters = sorted(list(target_characters))\n",
        "num_encoder_tokens = len(input_characters)\n",
        "num_decoder_tokens = len(target_characters)\n",
        "max_encoder_seq_length = max([len(txt) for txt in input_texts])\n",
        "max_decoder_seq_length = max([len(txt) for txt in target_texts])\n",
        "\n",
        "print(\"Number of samples:\", len(input_texts))\n",
        "print(\"Number of unique input tokens:\", num_encoder_tokens)\n",
        "print(\"Number of unique output tokens:\", num_decoder_tokens)\n",
        "print(\"Max sequence length for inputs:\", max_encoder_seq_length)\n",
        "print(\"Max sequence length for outputs:\", max_decoder_seq_length)\n",
        "\n",
        "input_token_index = dict([(char, i) for i, char in enumerate(input_characters)])\n",
        "target_token_index = dict([(char, i) for i, char in enumerate(target_characters)])\n",
        "\n",
        "encoder_input_data = np.zeros(\n",
        "    (len(input_texts), max_encoder_seq_length, num_encoder_tokens), dtype=\"float32\"\n",
        ")\n",
        "decoder_input_data = np.zeros(\n",
        "    (len(input_texts), max_decoder_seq_length, num_decoder_tokens), dtype=\"float32\"\n",
        ")\n",
        "decoder_target_data = np.zeros(\n",
        "    (len(input_texts), max_decoder_seq_length, num_decoder_tokens), dtype=\"float32\"\n",
        ")\n",
        "\n",
        "for i, (input_text, target_text) in enumerate(zip(input_texts, target_texts)):\n",
        "    for t, char in enumerate(input_text):\n",
        "        encoder_input_data[i, t, input_token_index[char]] = 1.0\n",
        "    encoder_input_data[i, t + 1 :, input_token_index[\" \"]] = 1.0\n",
        "    for t, char in enumerate(target_text):\n",
        "        # decoder_target_data is ahead of decoder_input_data by one timestep\n",
        "        decoder_input_data[i, t, target_token_index[char]] = 1.0\n",
        "        if t > 0:\n",
        "            # decoder_target_data will be ahead by one timestep\n",
        "            # and will not include the start character.\n",
        "            decoder_target_data[i, t - 1, target_token_index[char]] = 1.0\n",
        "    decoder_input_data[i, t + 1 :, target_token_index[\" \"]] = 1.0\n",
        "    decoder_target_data[i, t:, target_token_index[\" \"]] = 1.0\n"
      ]
    },
    {
      "cell_type": "markdown",
      "metadata": {
        "id": "oJtLmv3bHTQw"
      },
      "source": [
        "## Build the model\n"
      ]
    },
    {
      "cell_type": "code",
      "execution_count": 8,
      "metadata": {
        "id": "QKh7kobkHTQx"
      },
      "outputs": [],
      "source": [
        "# Define an input sequence and process it.\n",
        "encoder_inputs = keras.Input(shape=(None, num_encoder_tokens))\n",
        "encoder = keras.layers.LSTM(latent_dim, return_state=True)\n",
        "encoder_outputs, state_h, state_c = encoder(encoder_inputs)\n",
        "\n",
        "# We discard `encoder_outputs` and only keep the states.\n",
        "encoder_states = [state_h, state_c]\n",
        "\n",
        "# Set up the decoder, using `encoder_states` as initial state.\n",
        "decoder_inputs = keras.Input(shape=(None, num_decoder_tokens))\n",
        "\n",
        "# We set up our decoder to return full output sequences,\n",
        "# and to return internal states as well. We don't use the\n",
        "# return states in the training model, but we will use them in inference.\n",
        "decoder_lstm = keras.layers.LSTM(latent_dim, return_sequences=True, return_state=True)\n",
        "decoder_outputs, _, _ = decoder_lstm(decoder_inputs, initial_state=encoder_states)\n",
        "decoder_dense = keras.layers.Dense(num_decoder_tokens, activation=\"softmax\")\n",
        "decoder_outputs = decoder_dense(decoder_outputs)\n",
        "\n",
        "# Define the model that will turn\n",
        "# `encoder_input_data` & `decoder_input_data` into `decoder_target_data`\n",
        "model = keras.Model([encoder_inputs, decoder_inputs], decoder_outputs)\n"
      ]
    },
    {
      "cell_type": "code",
      "source": [
        "# Model Summary\n",
        "model.summary()"
      ],
      "metadata": {
        "colab": {
          "base_uri": "https://localhost:8080/"
        },
        "id": "Oz7GN0NqacbU",
        "outputId": "409ad28d-0152-4888-9061-a20aa6e24b0c"
      },
      "execution_count": 9,
      "outputs": [
        {
          "output_type": "stream",
          "name": "stdout",
          "text": [
            "Model: \"model\"\n",
            "__________________________________________________________________________________________________\n",
            " Layer (type)                   Output Shape         Param #     Connected to                     \n",
            "==================================================================================================\n",
            " input_1 (InputLayer)           [(None, None, 29)]   0           []                               \n",
            "                                                                                                  \n",
            " input_2 (InputLayer)           [(None, None, 31)]   0           []                               \n",
            "                                                                                                  \n",
            " lstm (LSTM)                    [(None, 256),        292864      ['input_1[0][0]']                \n",
            "                                 (None, 256),                                                     \n",
            "                                 (None, 256)]                                                     \n",
            "                                                                                                  \n",
            " lstm_1 (LSTM)                  [(None, None, 256),  294912      ['input_2[0][0]',                \n",
            "                                 (None, 256),                     'lstm[0][1]',                   \n",
            "                                 (None, 256)]                     'lstm[0][2]']                   \n",
            "                                                                                                  \n",
            " dense (Dense)                  (None, None, 31)     7967        ['lstm_1[0][0]']                 \n",
            "                                                                                                  \n",
            "==================================================================================================\n",
            "Total params: 595,743\n",
            "Trainable params: 595,743\n",
            "Non-trainable params: 0\n",
            "__________________________________________________________________________________________________\n"
          ]
        }
      ]
    },
    {
      "cell_type": "markdown",
      "metadata": {
        "id": "KeilxhkLHTQy"
      },
      "source": [
        "## Train the model\n"
      ]
    },
    {
      "cell_type": "code",
      "execution_count": null,
      "metadata": {
        "id": "g0KZ-m8MHTQy",
        "colab": {
          "base_uri": "https://localhost:8080/"
        },
        "outputId": "8adef32e-f7e5-4020-a3ea-4682b70c0d90"
      },
      "outputs": [
        {
          "output_type": "stream",
          "name": "stdout",
          "text": [
            "Epoch 1/100\n",
            "2432/2432 [==============================] - 31s 11ms/step - loss: 0.3011 - accuracy: 0.8904 - val_loss: 0.2264 - val_accuracy: 0.9168\n",
            "Epoch 2/100\n",
            "2432/2432 [==============================] - 26s 11ms/step - loss: 0.1800 - accuracy: 0.9313 - val_loss: 0.1554 - val_accuracy: 0.9402\n",
            "Epoch 3/100\n",
            "2432/2432 [==============================] - 27s 11ms/step - loss: 0.1192 - accuracy: 0.9534 - val_loss: 0.1053 - val_accuracy: 0.9593\n",
            "Epoch 4/100\n",
            "2432/2432 [==============================] - 26s 11ms/step - loss: 0.0812 - accuracy: 0.9681 - val_loss: 0.0770 - val_accuracy: 0.9704\n",
            "Epoch 5/100\n",
            "2432/2432 [==============================] - 25s 10ms/step - loss: 0.0619 - accuracy: 0.9749 - val_loss: 0.0630 - val_accuracy: 0.9744\n",
            "Epoch 6/100\n",
            "2432/2432 [==============================] - 26s 11ms/step - loss: 0.0525 - accuracy: 0.9783 - val_loss: 0.0634 - val_accuracy: 0.9737\n",
            "Epoch 7/100\n",
            "2432/2432 [==============================] - 26s 11ms/step - loss: 0.0460 - accuracy: 0.9808 - val_loss: 0.0520 - val_accuracy: 0.9803\n",
            "Epoch 8/100\n",
            "2432/2432 [==============================] - 26s 11ms/step - loss: 0.0412 - accuracy: 0.9826 - val_loss: 0.0447 - val_accuracy: 0.9811\n",
            "Epoch 9/100\n",
            "2432/2432 [==============================] - 26s 11ms/step - loss: 0.0374 - accuracy: 0.9842 - val_loss: 0.0411 - val_accuracy: 0.9828\n",
            "Epoch 10/100\n",
            "2432/2432 [==============================] - 26s 11ms/step - loss: 0.0344 - accuracy: 0.9855 - val_loss: 0.0355 - val_accuracy: 0.9850\n",
            "Epoch 11/100\n",
            "2432/2432 [==============================] - 28s 11ms/step - loss: 0.0320 - accuracy: 0.9865 - val_loss: 0.0326 - val_accuracy: 0.9861\n",
            "Epoch 12/100\n",
            "2432/2432 [==============================] - 26s 11ms/step - loss: 0.0299 - accuracy: 0.9874 - val_loss: 0.0303 - val_accuracy: 0.9874\n",
            "Epoch 13/100\n",
            "2432/2432 [==============================] - 28s 12ms/step - loss: 0.0280 - accuracy: 0.9883 - val_loss: 0.0324 - val_accuracy: 0.9869\n",
            "Epoch 14/100\n",
            "2432/2432 [==============================] - 26s 11ms/step - loss: 0.0264 - accuracy: 0.9890 - val_loss: 0.0325 - val_accuracy: 0.9866\n",
            "Epoch 15/100\n",
            "2432/2432 [==============================] - 25s 10ms/step - loss: 0.0248 - accuracy: 0.9897 - val_loss: 0.0302 - val_accuracy: 0.9875\n",
            "Epoch 16/100\n",
            "2432/2432 [==============================] - 26s 11ms/step - loss: 0.0234 - accuracy: 0.9904 - val_loss: 0.0270 - val_accuracy: 0.9888\n",
            "Epoch 17/100\n",
            "2432/2432 [==============================] - 26s 11ms/step - loss: 0.0222 - accuracy: 0.9909 - val_loss: 0.0244 - val_accuracy: 0.9900\n",
            "Epoch 18/100\n",
            "2432/2432 [==============================] - 26s 11ms/step - loss: 0.0210 - accuracy: 0.9914 - val_loss: 0.0221 - val_accuracy: 0.9911\n",
            "Epoch 19/100\n",
            "2432/2432 [==============================] - 26s 11ms/step - loss: 0.0200 - accuracy: 0.9918 - val_loss: 0.0248 - val_accuracy: 0.9900\n",
            "Epoch 20/100\n",
            "2432/2432 [==============================] - 25s 10ms/step - loss: 0.0190 - accuracy: 0.9923 - val_loss: 0.0205 - val_accuracy: 0.9916\n",
            "Epoch 21/100\n",
            "2432/2432 [==============================] - 26s 11ms/step - loss: 0.0182 - accuracy: 0.9927 - val_loss: 0.0252 - val_accuracy: 0.9904\n",
            "Epoch 22/100\n",
            "2432/2432 [==============================] - 27s 11ms/step - loss: 0.0173 - accuracy: 0.9931 - val_loss: 0.0227 - val_accuracy: 0.9912\n",
            "Epoch 23/100\n",
            "2432/2432 [==============================] - 25s 10ms/step - loss: 0.0165 - accuracy: 0.9934 - val_loss: 0.0214 - val_accuracy: 0.9915\n",
            "Epoch 24/100\n",
            "2432/2432 [==============================] - 27s 11ms/step - loss: 0.0159 - accuracy: 0.9937 - val_loss: 0.0217 - val_accuracy: 0.9914\n",
            "Epoch 25/100\n",
            "2432/2432 [==============================] - 25s 10ms/step - loss: 0.0152 - accuracy: 0.9940 - val_loss: 0.0190 - val_accuracy: 0.9925\n",
            "Epoch 26/100\n",
            "2432/2432 [==============================] - 26s 11ms/step - loss: 0.0147 - accuracy: 0.9943 - val_loss: 0.0176 - val_accuracy: 0.9933\n",
            "Epoch 27/100\n",
            "2432/2432 [==============================] - 26s 11ms/step - loss: 0.0140 - accuracy: 0.9946 - val_loss: 0.0243 - val_accuracy: 0.9907\n",
            "Epoch 28/100\n",
            "2432/2432 [==============================] - 25s 10ms/step - loss: 0.0133 - accuracy: 0.9949 - val_loss: 0.0214 - val_accuracy: 0.9919\n",
            "Epoch 29/100\n",
            "2432/2432 [==============================] - 25s 10ms/step - loss: 0.0127 - accuracy: 0.9952 - val_loss: 0.0158 - val_accuracy: 0.9940\n",
            "Epoch 30/100\n",
            "2432/2432 [==============================] - 25s 10ms/step - loss: 0.0119 - accuracy: 0.9955 - val_loss: 0.0166 - val_accuracy: 0.9938\n",
            "Epoch 31/100\n",
            "2432/2432 [==============================] - 27s 11ms/step - loss: 0.0113 - accuracy: 0.9957 - val_loss: 0.0179 - val_accuracy: 0.9938\n",
            "Epoch 32/100\n",
            "2432/2432 [==============================] - 26s 11ms/step - loss: 0.0108 - accuracy: 0.9960 - val_loss: 0.0166 - val_accuracy: 0.9939\n",
            "Epoch 33/100\n",
            "2432/2432 [==============================] - 25s 10ms/step - loss: 0.0101 - accuracy: 0.9963 - val_loss: 0.0150 - val_accuracy: 0.9945\n",
            "Epoch 34/100\n",
            "2432/2432 [==============================] - 26s 11ms/step - loss: 0.0098 - accuracy: 0.9965 - val_loss: 0.0132 - val_accuracy: 0.9952\n",
            "Epoch 35/100\n",
            "2432/2432 [==============================] - 28s 12ms/step - loss: 0.0090 - accuracy: 0.9966 - val_loss: 0.0187 - val_accuracy: 0.9937\n",
            "Epoch 36/100\n",
            "2432/2432 [==============================] - 26s 11ms/step - loss: 0.0089 - accuracy: 0.9967 - val_loss: 0.0152 - val_accuracy: 0.9947\n",
            "Epoch 37/100\n",
            "2432/2432 [==============================] - 25s 10ms/step - loss: 0.0087 - accuracy: 0.9969 - val_loss: 0.0146 - val_accuracy: 0.9948\n",
            "Epoch 38/100\n",
            "2432/2432 [==============================] - 27s 11ms/step - loss: 0.0081 - accuracy: 0.9970 - val_loss: 0.0158 - val_accuracy: 0.9945\n",
            "Epoch 39/100\n",
            "2432/2432 [==============================] - 26s 11ms/step - loss: 0.0078 - accuracy: 0.9971 - val_loss: 0.0138 - val_accuracy: 0.9951\n",
            "Epoch 40/100\n",
            "2432/2432 [==============================] - 27s 11ms/step - loss: 0.0077 - accuracy: 0.9973 - val_loss: 0.0141 - val_accuracy: 0.9952\n",
            "Epoch 41/100\n",
            "2432/2432 [==============================] - 26s 11ms/step - loss: 0.0074 - accuracy: 0.9973 - val_loss: 0.0137 - val_accuracy: 0.9953\n",
            "Epoch 42/100\n",
            "2432/2432 [==============================] - 26s 11ms/step - loss: 0.0072 - accuracy: 0.9974 - val_loss: 0.0134 - val_accuracy: 0.9954\n",
            "Epoch 43/100\n",
            "2432/2432 [==============================] - 25s 10ms/step - loss: 0.0068 - accuracy: 0.9975 - val_loss: 0.0138 - val_accuracy: 0.9953\n",
            "Epoch 44/100\n",
            "2432/2432 [==============================] - 25s 10ms/step - loss: 0.0067 - accuracy: 0.9976 - val_loss: 0.0124 - val_accuracy: 0.9956\n",
            "Epoch 45/100\n",
            "2432/2432 [==============================] - 26s 11ms/step - loss: 0.0065 - accuracy: 0.9977 - val_loss: 0.0139 - val_accuracy: 0.9952\n",
            "Epoch 46/100\n",
            "2432/2432 [==============================] - 26s 11ms/step - loss: 0.0062 - accuracy: 0.9978 - val_loss: 0.0133 - val_accuracy: 0.9956\n",
            "Epoch 47/100\n",
            "2432/2432 [==============================] - 25s 10ms/step - loss: 0.0063 - accuracy: 0.9978 - val_loss: 0.0137 - val_accuracy: 0.9954\n",
            "Epoch 48/100\n",
            "2432/2432 [==============================] - 27s 11ms/step - loss: 0.0060 - accuracy: 0.9978 - val_loss: 0.0152 - val_accuracy: 0.9949\n",
            "Epoch 49/100\n",
            "2432/2432 [==============================] - 25s 10ms/step - loss: 0.0059 - accuracy: 0.9980 - val_loss: 0.0152 - val_accuracy: 0.9949\n",
            "Epoch 50/100\n",
            "2432/2432 [==============================] - 26s 11ms/step - loss: 0.0057 - accuracy: 0.9980 - val_loss: 0.0134 - val_accuracy: 0.9957\n",
            "Epoch 51/100\n",
            "2432/2432 [==============================] - 25s 10ms/step - loss: 0.0056 - accuracy: 0.9981 - val_loss: 0.0154 - val_accuracy: 0.9955\n",
            "Epoch 52/100\n",
            "2432/2432 [==============================] - 25s 10ms/step - loss: 0.0055 - accuracy: 0.9981 - val_loss: 0.0164 - val_accuracy: 0.9956\n",
            "Epoch 53/100\n",
            "2432/2432 [==============================] - 25s 10ms/step - loss: 0.0053 - accuracy: 0.9982 - val_loss: 0.0142 - val_accuracy: 0.9954\n",
            "Epoch 54/100\n",
            "2432/2432 [==============================] - 25s 10ms/step - loss: 0.0052 - accuracy: 0.9982 - val_loss: 0.0174 - val_accuracy: 0.9947\n",
            "Epoch 55/100\n",
            "2432/2432 [==============================] - 26s 11ms/step - loss: 0.0051 - accuracy: 0.9982 - val_loss: 0.0139 - val_accuracy: 0.9956\n",
            "Epoch 56/100\n",
            "2432/2432 [==============================] - 25s 10ms/step - loss: 0.0048 - accuracy: 0.9983 - val_loss: 0.0170 - val_accuracy: 0.9948\n",
            "Epoch 57/100\n",
            "2432/2432 [==============================] - 25s 10ms/step - loss: 0.0050 - accuracy: 0.9983 - val_loss: 0.0298 - val_accuracy: 0.9943\n",
            "Epoch 58/100\n",
            "2432/2432 [==============================] - 25s 10ms/step - loss: 0.0052 - accuracy: 0.9984 - val_loss: 0.0123 - val_accuracy: 0.9961\n",
            "Epoch 59/100\n",
            "2432/2432 [==============================] - 25s 10ms/step - loss: 0.0046 - accuracy: 0.9984 - val_loss: 0.0133 - val_accuracy: 0.9959\n",
            "Epoch 60/100\n",
            "2432/2432 [==============================] - 26s 11ms/step - loss: 0.0045 - accuracy: 0.9985 - val_loss: 0.0132 - val_accuracy: 0.9959\n",
            "Epoch 61/100\n",
            "2432/2432 [==============================] - 28s 12ms/step - loss: 0.0045 - accuracy: 0.9985 - val_loss: 0.0129 - val_accuracy: 0.9959\n",
            "Epoch 62/100\n",
            "2432/2432 [==============================] - 25s 10ms/step - loss: 0.0043 - accuracy: 0.9985 - val_loss: 0.0149 - val_accuracy: 0.9955\n",
            "Epoch 63/100\n",
            "2432/2432 [==============================] - 25s 10ms/step - loss: 0.0044 - accuracy: 0.9986 - val_loss: 0.0126 - val_accuracy: 0.9962\n",
            "Epoch 64/100\n",
            "2432/2432 [==============================] - 25s 10ms/step - loss: 0.0044 - accuracy: 0.9986 - val_loss: 0.0137 - val_accuracy: 0.9959\n",
            "Epoch 65/100\n",
            "2432/2432 [==============================] - 28s 12ms/step - loss: 0.0044 - accuracy: 0.9986 - val_loss: 0.0133 - val_accuracy: 0.9959\n",
            "Epoch 66/100\n",
            "2432/2432 [==============================] - 25s 10ms/step - loss: 0.0041 - accuracy: 0.9986 - val_loss: 0.0145 - val_accuracy: 0.9958\n",
            "Epoch 67/100\n",
            "2432/2432 [==============================] - 25s 10ms/step - loss: 0.0039 - accuracy: 0.9987 - val_loss: 0.0144 - val_accuracy: 0.9958\n",
            "Epoch 68/100\n",
            "2432/2432 [==============================] - 25s 10ms/step - loss: 0.0041 - accuracy: 0.9987 - val_loss: 0.0138 - val_accuracy: 0.9959\n",
            "Epoch 69/100\n",
            "2432/2432 [==============================] - 25s 10ms/step - loss: 0.0038 - accuracy: 0.9987 - val_loss: 0.0128 - val_accuracy: 0.9963\n",
            "Epoch 70/100\n",
            "2432/2432 [==============================] - 27s 11ms/step - loss: 0.0040 - accuracy: 0.9987 - val_loss: 0.0173 - val_accuracy: 0.9958\n",
            "Epoch 71/100\n",
            "2432/2432 [==============================] - 25s 10ms/step - loss: 0.0045 - accuracy: 0.9988 - val_loss: 0.0261 - val_accuracy: 0.9952\n",
            "Epoch 72/100\n",
            "2432/2432 [==============================] - 25s 10ms/step - loss: 0.0036 - accuracy: 0.9988 - val_loss: 0.0136 - val_accuracy: 0.9961\n",
            "Epoch 73/100\n",
            "2432/2432 [==============================] - 25s 10ms/step - loss: 0.0037 - accuracy: 0.9988 - val_loss: 0.0132 - val_accuracy: 0.9962\n",
            "Epoch 74/100\n",
            "2432/2432 [==============================] - 25s 10ms/step - loss: 0.0035 - accuracy: 0.9988 - val_loss: 0.0129 - val_accuracy: 0.9963\n",
            "Epoch 75/100\n",
            "2432/2432 [==============================] - 26s 11ms/step - loss: 0.0034 - accuracy: 0.9989 - val_loss: 0.0162 - val_accuracy: 0.9957\n",
            "Epoch 76/100\n",
            "2432/2432 [==============================] - 28s 11ms/step - loss: 0.0037 - accuracy: 0.9989 - val_loss: 0.0162 - val_accuracy: 0.9954\n",
            "Epoch 77/100\n",
            "2432/2432 [==============================] - 26s 11ms/step - loss: 0.0036 - accuracy: 0.9989 - val_loss: 0.0139 - val_accuracy: 0.9960\n",
            "Epoch 78/100\n",
            "2432/2432 [==============================] - 26s 11ms/step - loss: 0.0035 - accuracy: 0.9989 - val_loss: 0.0153 - val_accuracy: 0.9958\n",
            "Epoch 79/100\n",
            "2432/2432 [==============================] - 27s 11ms/step - loss: 0.0036 - accuracy: 0.9989 - val_loss: 0.0157 - val_accuracy: 0.9956\n",
            "Epoch 80/100\n",
            "2432/2432 [==============================] - 27s 11ms/step - loss: 0.0035 - accuracy: 0.9989 - val_loss: 0.0140 - val_accuracy: 0.9962\n",
            "Epoch 81/100\n",
            "2432/2432 [==============================] - 26s 11ms/step - loss: 0.0033 - accuracy: 0.9990 - val_loss: 0.0142 - val_accuracy: 0.9961\n",
            "Epoch 82/100\n",
            "2432/2432 [==============================] - 25s 10ms/step - loss: 0.0033 - accuracy: 0.9990 - val_loss: 0.0155 - val_accuracy: 0.9957\n",
            "Epoch 83/100\n",
            "2432/2432 [==============================] - 28s 11ms/step - loss: 0.0033 - accuracy: 0.9990 - val_loss: 0.0152 - val_accuracy: 0.9959\n",
            "Epoch 84/100\n",
            "2432/2432 [==============================] - 26s 11ms/step - loss: 0.0044 - accuracy: 0.9989 - val_loss: 0.0166 - val_accuracy: 0.9957\n",
            "Epoch 85/100\n",
            "2432/2432 [==============================] - 27s 11ms/step - loss: 0.0031 - accuracy: 0.9990 - val_loss: 0.0173 - val_accuracy: 0.9954\n",
            "Epoch 86/100\n",
            "2432/2432 [==============================] - 28s 12ms/step - loss: 0.0032 - accuracy: 0.9990 - val_loss: 0.0134 - val_accuracy: 0.9964\n",
            "Epoch 87/100\n",
            "2432/2432 [==============================] - 26s 11ms/step - loss: 0.0031 - accuracy: 0.9990 - val_loss: 0.0136 - val_accuracy: 0.9963\n",
            "Epoch 88/100\n",
            "2432/2432 [==============================] - 26s 11ms/step - loss: 0.0030 - accuracy: 0.9990 - val_loss: 0.0133 - val_accuracy: 0.9964\n",
            "Epoch 89/100\n",
            "2432/2432 [==============================] - 26s 11ms/step - loss: 0.0030 - accuracy: 0.9991 - val_loss: 0.0151 - val_accuracy: 0.9960\n",
            "Epoch 90/100\n",
            "2432/2432 [==============================] - 27s 11ms/step - loss: 0.0030 - accuracy: 0.9991 - val_loss: 0.0154 - val_accuracy: 0.9959\n",
            "Epoch 91/100\n",
            "2432/2432 [==============================] - 25s 10ms/step - loss: 0.0030 - accuracy: 0.9991 - val_loss: 0.0152 - val_accuracy: 0.9961\n",
            "Epoch 92/100\n",
            "2432/2432 [==============================] - 26s 11ms/step - loss: 0.0029 - accuracy: 0.9991 - val_loss: 0.0142 - val_accuracy: 0.9962\n",
            "Epoch 93/100\n",
            "2432/2432 [==============================] - 26s 11ms/step - loss: 0.0029 - accuracy: 0.9991 - val_loss: 0.0150 - val_accuracy: 0.9961\n",
            "Epoch 94/100\n",
            "2432/2432 [==============================] - 26s 11ms/step - loss: 0.0028 - accuracy: 0.9991 - val_loss: 0.0145 - val_accuracy: 0.9963\n",
            "Epoch 95/100\n",
            "2432/2432 [==============================] - 28s 11ms/step - loss: 0.0027 - accuracy: 0.9992 - val_loss: 0.0151 - val_accuracy: 0.9962\n",
            "Epoch 96/100\n",
            "2432/2432 [==============================] - 26s 11ms/step - loss: 0.0039 - accuracy: 0.9991 - val_loss: 0.0168 - val_accuracy: 0.9957\n",
            "Epoch 97/100\n",
            "2432/2432 [==============================] - 26s 11ms/step - loss: 0.0027 - accuracy: 0.9991 - val_loss: 0.0145 - val_accuracy: 0.9962\n",
            "Epoch 98/100\n",
            "2432/2432 [==============================] - 25s 10ms/step - loss: 0.0029 - accuracy: 0.9991 - val_loss: 0.0152 - val_accuracy: 0.9961\n",
            "Epoch 99/100\n",
            "2432/2432 [==============================] - 28s 11ms/step - loss: 0.0027 - accuracy: 0.9992 - val_loss: 0.0132 - val_accuracy: 0.9966\n",
            "Epoch 100/100\n",
            "2432/2432 [==============================] - 27s 11ms/step - loss: 0.0028 - accuracy: 0.9991 - val_loss: 0.0177 - val_accuracy: 0.9959\n"
          ]
        },
        {
          "output_type": "stream",
          "name": "stderr",
          "text": [
            "WARNING:absl:Found untraced functions such as lstm_cell_10_layer_call_fn, lstm_cell_10_layer_call_and_return_conditional_losses, lstm_cell_11_layer_call_fn, lstm_cell_11_layer_call_and_return_conditional_losses while saving (showing 4 of 4). These functions will not be directly callable after loading.\n",
            "WARNING:absl:<keras.layers.recurrent.LSTMCell object at 0x7f9270bdf1d0> has the same name 'LSTMCell' as a built-in Keras object. Consider renaming <class 'keras.layers.recurrent.LSTMCell'> to avoid naming conflicts when loading with `tf.keras.models.load_model`. If renaming is not possible, pass the object in the `custom_objects` parameter of the load function.\n",
            "WARNING:absl:<keras.layers.recurrent.LSTMCell object at 0x7f931da40690> has the same name 'LSTMCell' as a built-in Keras object. Consider renaming <class 'keras.layers.recurrent.LSTMCell'> to avoid naming conflicts when loading with `tf.keras.models.load_model`. If renaming is not possible, pass the object in the `custom_objects` parameter of the load function.\n"
          ]
        }
      ],
      "source": [
        "model.compile(\n",
        "    optimizer=\"rmsprop\", loss=\"categorical_crossentropy\", metrics=[\"accuracy\"]\n",
        ")\n",
        "model.fit(\n",
        "    [encoder_input_data, decoder_input_data],\n",
        "    decoder_target_data,\n",
        "    batch_size=batch_size,\n",
        "    epochs=100,\n",
        "    validation_split=0.2,\n",
        ")\n",
        "# Save model\n",
        "model.save(\"s2s\")\n"
      ]
    },
    {
      "cell_type": "markdown",
      "metadata": {
        "id": "2d8xYtKmHTQz"
      },
      "source": [
        "## Run inference (sampling)\n",
        "\n",
        "1. encode input and retrieve initial decoder state\n",
        "2. run one step of decoder with this initial state\n",
        "and a \"start of sequence\" token as target.\n",
        "Output will be the next target token.\n",
        "3. Repeat with the current target token and current states\n"
      ]
    },
    {
      "cell_type": "code",
      "source": [
        "! unzip '/content/s2s.zip'"
      ],
      "metadata": {
        "colab": {
          "base_uri": "https://localhost:8080/"
        },
        "id": "JfE96aK7XdZ5",
        "outputId": "ff214dda-08c4-4543-871d-7dfc384ea977"
      },
      "execution_count": null,
      "outputs": [
        {
          "output_type": "stream",
          "name": "stdout",
          "text": [
            "Archive:  /content/s2s.zip\n",
            "   creating: s2s/assets/\n",
            "  inflating: s2s/variables/variables.index  \n",
            "  inflating: s2s/keras_metadata.pb   \n",
            "  inflating: s2s/saved_model.pb      \n",
            "  inflating: s2s/variables/variables.data-00000-of-00001  \n"
          ]
        }
      ]
    },
    {
      "cell_type": "code",
      "execution_count": null,
      "metadata": {
        "id": "kdHwQB_4HTQz"
      },
      "outputs": [],
      "source": [
        "# Define sampling models\n",
        "# Restore the model and construct the encoder and decoder.\n",
        "model = keras.models.load_model(\"/content/s2s\")\n",
        "\n",
        "encoder_inputs = model.input[0]  # input_1\n",
        "encoder_outputs, state_h_enc, state_c_enc = model.layers[2].output  # lstm_1\n",
        "encoder_states = [state_h_enc, state_c_enc]\n",
        "encoder_model = keras.Model(encoder_inputs, encoder_states)\n",
        "\n",
        "decoder_inputs = model.input[1]  # input_2\n",
        "decoder_state_input_h = keras.Input(shape=(latent_dim,))\n",
        "decoder_state_input_c = keras.Input(shape=(latent_dim,))\n",
        "decoder_states_inputs = [decoder_state_input_h, decoder_state_input_c]\n",
        "decoder_lstm = model.layers[3]\n",
        "decoder_outputs, state_h_dec, state_c_dec = decoder_lstm(\n",
        "    decoder_inputs, initial_state=decoder_states_inputs\n",
        ")\n",
        "decoder_states = [state_h_dec, state_c_dec]\n",
        "decoder_dense = model.layers[4]\n",
        "decoder_outputs = decoder_dense(decoder_outputs)\n",
        "decoder_model = keras.Model(\n",
        "    [decoder_inputs] + decoder_states_inputs, [decoder_outputs] + decoder_states\n",
        ")\n",
        "\n",
        "# Reverse-lookup token index to decode sequences back to\n",
        "# something readable.\n",
        "reverse_input_char_index = dict((i, char) for char, i in input_token_index.items())\n",
        "reverse_target_char_index = dict((i, char) for char, i in target_token_index.items())\n",
        "\n",
        "\n",
        "def decode_sequence(input_seq):\n",
        "    # Encode the input as state vectors.\n",
        "    states_value = encoder_model.predict(input_seq)\n",
        "\n",
        "    # Generate empty target sequence of length 1.\n",
        "    target_seq = np.zeros((1, 1, num_decoder_tokens))\n",
        "    # Populate the first character of target sequence with the start character.\n",
        "    target_seq[0, 0, target_token_index[\"\\t\"]] = 1.0\n",
        "\n",
        "    # Sampling loop for a batch of sequences\n",
        "    # (to simplify, here we assume a batch of size 1).\n",
        "    stop_condition = False\n",
        "    decoded_sentence = \"\"\n",
        "    while not stop_condition:\n",
        "        output_tokens, h, c = decoder_model.predict([target_seq] + states_value)\n",
        "\n",
        "        # Sample a token\n",
        "        sampled_token_index = np.argmax(output_tokens[0, -1, :])\n",
        "        sampled_char = reverse_target_char_index[sampled_token_index]\n",
        "        decoded_sentence += sampled_char\n",
        "\n",
        "        # Exit condition: either hit max length\n",
        "        # or find stop character.\n",
        "        if sampled_char == \"\\n\" or len(decoded_sentence) > max_decoder_seq_length:\n",
        "            stop_condition = True\n",
        "\n",
        "        # Update the target sequence (of length 1).\n",
        "        target_seq = np.zeros((1, 1, num_decoder_tokens))\n",
        "        target_seq[0, 0, sampled_token_index] = 1.0\n",
        "\n",
        "        # Update states\n",
        "        states_value = [h, c]\n",
        "    return decoded_sentence\n",
        "\n"
      ]
    },
    {
      "cell_type": "markdown",
      "metadata": {
        "id": "jv2IfOcxHTQ0"
      },
      "source": [
        "You can now generate decoded sentences as such:\n"
      ]
    },
    {
      "cell_type": "code",
      "execution_count": null,
      "metadata": {
        "id": "crj8b-FJHTQ0",
        "colab": {
          "base_uri": "https://localhost:8080/"
        },
        "outputId": "1bcc1147-f7b5-4ce4-cc47-16ccd0897fd4"
      },
      "outputs": [
        {
          "output_type": "stream",
          "name": "stdout",
          "text": [
            "-\n",
            "Input sentence: (7-3*z)*(-5*z-9) \n",
            "Decoded sentence: 15*z**2-8*z-63\n",
            "Target sentence: 15*z**2-8*z-63\n",
            "-\n",
            "Input sentence: -9*s**2 \n",
            "Decoded sentence: -9*s**2\n",
            "Target sentence: -9*s**2\n",
            "-\n",
            "Input sentence: (2-2*n)*(n-1) \n",
            "Decoded sentence: -2*n**2+4*n-2\n",
            "Target sentence: -2*n**2+4*n-2\n",
            "-\n",
            "Input sentence: x**2 \n",
            "Decoded sentence: x**2\n",
            "Target sentence: x**2\n",
            "-\n",
            "Input sentence: (4-x)*(x-23) \n",
            "Decoded sentence: -x**2+27*x-92\n",
            "Target sentence: -x**2+27*x-92\n",
            "-\n",
            "Input sentence: (7-5*c)*(3*c-17) \n",
            "Decoded sentence: -15*c**2+106*c-119\n",
            "Target sentence: -15*c**2+106*c-119\n",
            "-\n",
            "Input sentence: -8*x*(3*x+14) \n",
            "Decoded sentence: -24*x**2-112*x\n",
            "Target sentence: -24*x**2-112*x\n",
            "-\n",
            "Input sentence: -2*k*(5*k-9) \n",
            "Decoded sentence: -10*k**2+18*k\n",
            "Target sentence: -10*k**2+18*k\n",
            "-\n",
            "Input sentence: (3*cos(c)-19)*(7*cos(c)+13) \n",
            "Decoded sentence: 21*cos(c)**2-94*cos(c)-247\n",
            "Target sentence: 21*cos(c)**2-94*cos(c)-247\n",
            "-\n",
            "Input sentence: -8*j*(-8*j-3) \n",
            "Decoded sentence: 64*j**2+24*j\n",
            "Target sentence: 64*j**2+24*j\n"
          ]
        }
      ],
      "source": [
        "count = 0\n",
        "total = 10\n",
        "for seq_index in range(total):\n",
        "    # Take one sequence (part of the training set)\n",
        "    # for trying out decoding.\n",
        "    input_seq = encoder_input_data[seq_index : seq_index + 1]\n",
        "    decoded_sentence = decode_sequence(input_seq)\n",
        "    print(\"-\")\n",
        "    print(\"Input sentence:\", input_texts[seq_index])\n",
        "    print(\"Decoded sentence:\", decoded_sentence.strip())\n",
        "    print(\"Target sentence:\", target_texts[seq_index].strip())"
      ]
    },
    {
      "cell_type": "markdown",
      "source": [
        "# Validation for 10K samples"
      ],
      "metadata": {
        "id": "SPAOpCYGn3vT"
      }
    },
    {
      "cell_type": "code",
      "source": [
        "def predict(factors: str):\n",
        "    encoder_input_data_val = np.zeros( (1, max_encoder_seq_length, num_encoder_tokens), dtype=\"float32\")\n",
        "    for t, char in enumerate(factors):\n",
        "        encoder_input_data_val[0, t, input_token_index[char]] = 1.0\n",
        "    encoder_input_data_val[0, t + 1 :, input_token_index[\" \"]] = 1.0\n",
        "    decoded_sentence = decode_sequence(encoder_input_data_val)\n",
        "    return decoded_sentence.strip()"
      ],
      "metadata": {
        "id": "wXEhI0l3qQ_8"
      },
      "execution_count": null,
      "outputs": []
    },
    {
      "cell_type": "code",
      "source": [
        "count = 0\n",
        "total = 0\n",
        "for text in text_pairs[min(num_samples, len(text_pairs) - 1):]:\n",
        "    total += 1\n",
        "    if predict(text[0]) == text[1]:\n",
        "        count += 1\n",
        "    if total % 10_000 == 0:\n",
        "        print(\"Current Samples : \", total)\n",
        "        print(\"Current Accuracy : \", count / total)\n",
        "\n",
        "print(\"Val Accuracy : \",count / total)"
      ],
      "metadata": {
        "colab": {
          "base_uri": "https://localhost:8080/"
        },
        "id": "5bWII72vqRa-",
        "outputId": "fa5fbb96-e9e0-4063-d291-add2f79bf24f"
      },
      "execution_count": null,
      "outputs": [
        {
          "output_type": "stream",
          "name": "stdout",
          "text": [
            "Current Samples :  10000\n",
            "Current Accuracy :  0.89\n"
          ]
        }
      ]
    },
    {
      "cell_type": "code",
      "source": [
        "import sys\n",
        "import numpy as np\n",
        "import urllib.request\n",
        "from typing import Tuple\n",
        "\n",
        "MAX_SEQUENCE_LENGTH = 29\n",
        "#TRAIN_URL = \"https://scale-static-assets.s3-us-west-2.amazonaws.com/ml-interview/expand/train.txt\"\n",
        "TRAIN_URL = \"https://scale-static-assets.s3-us-west-2.amazonaws.com/ml-interview/expand/train.txt\"\n",
        "\n",
        "\n",
        "def load_file(file_path: str) -> Tuple[Tuple[str], Tuple[str]]:\n",
        "    \"\"\" A helper functions that loads the file into a tuple of strings\n",
        "\n",
        "    :param file_path: path to the data file\n",
        "    :return factors: (LHS) inputs to the model\n",
        "            expansions: (RHS) group truth\n",
        "    \"\"\"\n",
        "    with urllib.request.urlopen(file_path) as url:\n",
        "        data = url.readlines()\n",
        "        factors, expansions = zip(*[line.decode('utf8').strip().split(\"=\") for line in data])\n",
        "        return factors, expansions\n",
        "\n",
        "\n",
        "def score(true_expansion: str, pred_expansion: str) -> int:\n",
        "    \"\"\" the scoring function - this is how the model will be evaluated\n",
        "\n",
        "    :param true_expansion: group truth string\n",
        "    :param pred_expansion: predicted string\n",
        "    :return:\n",
        "    \"\"\"\n",
        "    return int(true_expansion == pred_expansion)\n",
        "\n",
        "\n",
        "# --------- START OF IMPLEMENT THIS --------- #\n",
        "def predict(factors: str):\n",
        "    encoder_input_data_val = np.zeros( (1, max_encoder_seq_length, num_encoder_tokens), dtype=\"float32\")\n",
        "    for t, char in enumerate(factors):\n",
        "        encoder_input_data_val[0, t, input_token_index[char]] = 1.0\n",
        "    encoder_input_data_val[0, t + 1 :, input_token_index[\" \"]] = 1.0\n",
        "    decoded_sentence = decode_sequence(encoder_input_data_val)\n",
        "    return decoded_sentence.strip()\n",
        "\n",
        "\n",
        "# --------- END OF IMPLEMENT THIS --------- #\n",
        "\n",
        "\n",
        "def main(filepath: str):\n",
        "    factors, expansions = load_file(filepath)\n",
        "    pred = [predict(f) for f in factors]\n",
        "    scores = [score(te, pe) for te, pe in zip(expansions, pred)]\n",
        "    print(np.mean(scores))\n",
        "\n",
        "\n",
        "if __name__ == \"__main__\":\n",
        "    main(\"test.txt\" if \"-t\" in sys.argv else TRAIN_URL)"
      ],
      "metadata": {
        "id": "vTkgSFRCcqo4"
      },
      "execution_count": null,
      "outputs": []
    },
    {
      "cell_type": "code",
      "source": [
        "class Model_Vars():\n",
        "    def __init__(self, latent_dim, input_token_index, target_token_index,\n",
        "                 num_decoder_tokens, max_decoder_seq_length, max_encoder_seq_length, num_encoder_tokens):\n",
        "        self.latent_dim = latent_dim\n",
        "        self.input_token_index = input_token_index\n",
        "        self.target_token_index = target_token_index\n",
        "        self.num_decoder_tokens = num_decoder_tokens\n",
        "        self.max_decoder_seq_length = max_decoder_seq_length\n",
        "        self.max_encoder_seq_length = max_encoder_seq_length\n",
        "        self.num_encoder_tokens = num_encoder_tokens\n",
        "        "
      ],
      "metadata": {
        "id": "UGInOIR5dMpT"
      },
      "execution_count": 10,
      "outputs": []
    },
    {
      "cell_type": "code",
      "source": [
        "modeVars = Model_Vars(latent_dim, input_token_index, target_token_index, num_decoder_tokens, max_decoder_seq_length, max_encoder_seq_length, num_encoder_tokens)"
      ],
      "metadata": {
        "id": "vLqirFo9fWK1"
      },
      "execution_count": 11,
      "outputs": []
    },
    {
      "cell_type": "code",
      "source": [
        "import pickle\n",
        "filehandler = open(\"model_vars.obj\", 'wb') \n",
        "pickle.dump(modeVars, filehandler)\n",
        "filehandler.close()"
      ],
      "metadata": {
        "id": "l23I-BF9fias"
      },
      "execution_count": 17,
      "outputs": []
    }
  ],
  "metadata": {
    "colab": {
      "collapsed_sections": [],
      "name": "Training Code.ipynb",
      "provenance": []
    },
    "kernelspec": {
      "display_name": "Python 3",
      "language": "python",
      "name": "python3"
    },
    "language_info": {
      "codemirror_mode": {
        "name": "ipython",
        "version": 3
      },
      "file_extension": ".py",
      "mimetype": "text/x-python",
      "name": "python",
      "nbconvert_exporter": "python",
      "pygments_lexer": "ipython3",
      "version": "3.7.0"
    },
    "accelerator": "GPU",
    "gpuClass": "standard"
  },
  "nbformat": 4,
  "nbformat_minor": 0
}